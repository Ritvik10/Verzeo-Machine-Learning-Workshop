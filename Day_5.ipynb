{
  "nbformat": 4,
  "nbformat_minor": 0,
  "metadata": {
    "colab": {
      "name": "Day 5.ipynb",
      "provenance": [],
      "include_colab_link": true
    },
    "kernelspec": {
      "name": "python3",
      "display_name": "Python 3"
    },
    "language_info": {
      "name": "python"
    }
  },
  "cells": [
    {
      "cell_type": "markdown",
      "metadata": {
        "id": "view-in-github",
        "colab_type": "text"
      },
      "source": [
        "<a href=\"https://colab.research.google.com/github/Ritvik10/Verzeo-Machine-Learning-Workshop/blob/main/Day_5.ipynb\" target=\"_parent\"><img src=\"https://colab.research.google.com/assets/colab-badge.svg\" alt=\"Open In Colab\"/></a>"
      ]
    },
    {
      "cell_type": "markdown",
      "metadata": {
        "id": "takN-FVcduYc"
      },
      "source": [
        "# Exception Handling"
      ]
    },
    {
      "cell_type": "markdown",
      "metadata": {
        "id": "Z1SBHrnXeKo0"
      },
      "source": [
        "### 1st Example"
      ]
    },
    {
      "cell_type": "code",
      "metadata": {
        "colab": {
          "base_uri": "https://localhost:8080/"
        },
        "id": "mepd87dFQW_V",
        "outputId": "d10d0980-375c-4d2b-c26f-7f1665332a50"
      },
      "source": [
        "try:\n",
        "  age = int(input(\"Please enter your Age: \"))\n",
        "\n",
        "\n",
        "except ValueError:\n",
        "  print(\"Please Enter the valid age\")\n",
        "\n",
        "else:\n",
        "  print(\"You entered the age properly\")\n",
        "\n",
        "\n",
        "print(''' ...\n",
        "....\n",
        "\n",
        "...''')"
      ],
      "execution_count": null,
      "outputs": [
        {
          "output_type": "stream",
          "text": [
            "Please enter your Age: as\n",
            "Please Enter the valid age\n",
            " ...\n",
            "....\n",
            "\n",
            "...\n"
          ],
          "name": "stdout"
        }
      ]
    },
    {
      "cell_type": "markdown",
      "metadata": {
        "id": "l0h9uYzaeQFs"
      },
      "source": [
        "###2nd"
      ]
    },
    {
      "cell_type": "code",
      "metadata": {
        "colab": {
          "base_uri": "https://localhost:8080/"
        },
        "id": "LW3dlykhRVN3",
        "outputId": "9ad851be-d60c-4633-bd4e-ed3349a50246"
      },
      "source": [
        "try:\n",
        "  age = int(input(\"Please enter your Age: \"))\n",
        "\n",
        "\n",
        "except ValueError as ex:\n",
        "  print(\"Please Enter the valid age\")\n",
        "  print(ex)\n",
        "\n",
        "else:\n",
        "  print(\"You entered the age properly\")\n",
        "  \n",
        "\n",
        "print(''' ...\n",
        "....\n",
        "\n",
        "...''')"
      ],
      "execution_count": null,
      "outputs": [
        {
          "output_type": "stream",
          "text": [
            "Please enter your Age: as\n",
            "Please Enter the valid age\n",
            "invalid literal for int() with base 10: 'as'\n",
            " ...\n",
            "....\n",
            "\n",
            "...\n"
          ],
          "name": "stdout"
        }
      ]
    },
    {
      "cell_type": "markdown",
      "metadata": {
        "id": "nofRTVtlV3-M"
      },
      "source": [
        "Try, except, finally"
      ]
    },
    {
      "cell_type": "markdown",
      "metadata": {
        "id": "9iA5PQjyeUlG"
      },
      "source": [
        "### 3rd"
      ]
    },
    {
      "cell_type": "code",
      "metadata": {
        "colab": {
          "base_uri": "https://localhost:8080/",
          "height": 189
        },
        "id": "1JUr1-lXVRMm",
        "outputId": "bb76dab6-662b-4635-80c9-faeb1896e1bc"
      },
      "source": [
        "age = 10\n",
        "print(age/0)"
      ],
      "execution_count": null,
      "outputs": [
        {
          "output_type": "error",
          "ename": "ZeroDivisionError",
          "evalue": "ignored",
          "traceback": [
            "\u001b[0;31m---------------------------------------------------------------------------\u001b[0m",
            "\u001b[0;31mZeroDivisionError\u001b[0m                         Traceback (most recent call last)",
            "\u001b[0;32m<ipython-input-15-7d2cceadec1d>\u001b[0m in \u001b[0;36m<module>\u001b[0;34m()\u001b[0m\n\u001b[1;32m      1\u001b[0m \u001b[0mage\u001b[0m \u001b[0;34m=\u001b[0m \u001b[0;36m10\u001b[0m\u001b[0;34m\u001b[0m\u001b[0;34m\u001b[0m\u001b[0m\n\u001b[0;32m----> 2\u001b[0;31m \u001b[0mprint\u001b[0m\u001b[0;34m(\u001b[0m\u001b[0mage\u001b[0m\u001b[0;34m/\u001b[0m\u001b[0;36m0\u001b[0m\u001b[0;34m)\u001b[0m\u001b[0;34m\u001b[0m\u001b[0;34m\u001b[0m\u001b[0m\n\u001b[0m",
            "\u001b[0;31mZeroDivisionError\u001b[0m: division by zero"
          ]
        }
      ]
    },
    {
      "cell_type": "markdown",
      "metadata": {
        "id": "KrBhR1sld9AK"
      },
      "source": [
        "#Packages"
      ]
    },
    {
      "cell_type": "markdown",
      "metadata": {
        "id": "b3-cKd_QembV"
      },
      "source": [
        "###NumPy"
      ]
    },
    {
      "cell_type": "code",
      "metadata": {
        "id": "X9AKYE9zWHvV"
      },
      "source": [
        "a = [1,2,3]\n",
        "b = [4,5,6]"
      ],
      "execution_count": null,
      "outputs": []
    },
    {
      "cell_type": "code",
      "metadata": {
        "colab": {
          "base_uri": "https://localhost:8080/",
          "height": 171
        },
        "id": "l9LcsI40XTSW",
        "outputId": "c9b890d2-32c2-42c2-b79c-145bb28bca00"
      },
      "source": [
        "a * b"
      ],
      "execution_count": null,
      "outputs": [
        {
          "output_type": "error",
          "ename": "TypeError",
          "evalue": "ignored",
          "traceback": [
            "\u001b[0;31m---------------------------------------------------------------------------\u001b[0m",
            "\u001b[0;31mTypeError\u001b[0m                                 Traceback (most recent call last)",
            "\u001b[0;32m<ipython-input-17-9bc1a869709f>\u001b[0m in \u001b[0;36m<module>\u001b[0;34m()\u001b[0m\n\u001b[0;32m----> 1\u001b[0;31m \u001b[0ma\u001b[0m \u001b[0;34m*\u001b[0m \u001b[0mb\u001b[0m\u001b[0;34m\u001b[0m\u001b[0;34m\u001b[0m\u001b[0m\n\u001b[0m",
            "\u001b[0;31mTypeError\u001b[0m: can't multiply sequence by non-int of type 'list'"
          ]
        }
      ]
    },
    {
      "cell_type": "code",
      "metadata": {
        "id": "LAWP5RHzXU5K"
      },
      "source": [
        "import numpy as np"
      ],
      "execution_count": null,
      "outputs": []
    },
    {
      "cell_type": "code",
      "metadata": {
        "id": "_jPA6q_cb2-H"
      },
      "source": [
        "c = np.array([1,2,3])\n",
        "d = np.array([4,5,6])"
      ],
      "execution_count": null,
      "outputs": []
    },
    {
      "cell_type": "code",
      "metadata": {
        "colab": {
          "base_uri": "https://localhost:8080/"
        },
        "id": "txAdFP91cgNc",
        "outputId": "bb9e73fe-6542-42ba-ada5-7e95c806f864"
      },
      "source": [
        "c * d"
      ],
      "execution_count": null,
      "outputs": [
        {
          "output_type": "execute_result",
          "data": {
            "text/plain": [
              "array([ 4, 10, 18])"
            ]
          },
          "metadata": {
            "tags": []
          },
          "execution_count": 20
        }
      ]
    },
    {
      "cell_type": "markdown",
      "metadata": {
        "id": "LHqfPS-JeozW"
      },
      "source": [
        "### Matplotlib"
      ]
    },
    {
      "cell_type": "code",
      "metadata": {
        "id": "f6dpd8Iucimt"
      },
      "source": [
        "import matplotlib.pyplot as plt\n"
      ],
      "execution_count": null,
      "outputs": []
    },
    {
      "cell_type": "markdown",
      "metadata": {
        "id": "svAHSlZyf3M9"
      },
      "source": [
        "1. P1 (3,6)\n",
        "2. P2 (4,7)\n",
        "3. P3 (2,4)\n",
        "4. P4 (6,9)"
      ]
    },
    {
      "cell_type": "code",
      "metadata": {
        "id": "CkWuNhmJfo7D"
      },
      "source": [
        "x = [3,4,2,6]\n",
        "y = [6,7,4,9]"
      ],
      "execution_count": null,
      "outputs": []
    },
    {
      "cell_type": "code",
      "metadata": {
        "colab": {
          "base_uri": "https://localhost:8080/",
          "height": 265
        },
        "id": "eI5ws-9mgtf0",
        "outputId": "22693982-af61-427a-e4d6-1da9240979cb"
      },
      "source": [
        "plt.plot(x,y, marker = \"o\", color = \"green\")\n",
        "plt.show()"
      ],
      "execution_count": null,
      "outputs": [
        {
          "output_type": "display_data",
          "data": {
            "image/png": "[encoded data removed]",
            "text/plain": [
              "<Figure size 432x288 with 1 Axes>"
            ]
          },
          "metadata": {
            "tags": [],
            "needs_background": "light"
          }
        }
      ]
    },
    {
      "cell_type": "code",
      "metadata": {
        "colab": {
          "base_uri": "https://localhost:8080/",
          "height": 265
        },
        "id": "LieO2hrThMy7",
        "outputId": "fdb120bf-c5f4-4c86-fcc1-3dd13d4c0d5f"
      },
      "source": [
        "plt.plot(x,y, marker = \"o\", color = \"green\", markersize = 5, linestyle =\"dashed\")\n",
        "plt.show()"
      ],
      "execution_count": null,
      "outputs": [
        {
          "output_type": "display_data",
          "data": {
            "image/png": "[encoded data removed]",
            "text/plain": [
              "<Figure size 432x288 with 1 Axes>"
            ]
          },
          "metadata": {
            "tags": [],
            "needs_background": "light"
          }
        }
      ]
    },
    {
      "cell_type": "code",
      "metadata": {
        "colab": {
          "base_uri": "https://localhost:8080/",
          "height": 265
        },
        "id": "htzF5kjYkEXm",
        "outputId": "d8d8a8fb-7050-447b-8bf7-774418adf7d7"
      },
      "source": [
        "plt.scatter(x,y, marker = \"o\", color = \"blue\")\n",
        "plt.show()"
      ],
      "execution_count": null,
      "outputs": [
        {
          "output_type": "display_data",
          "data": {
            "image/png": "[encoded data removed]",
            "text/plain": [
              "<Figure size 432x288 with 1 Axes>"
            ]
          },
          "metadata": {
            "tags": [],
            "needs_background": "light"
          }
        }
      ]
    },
    {
      "cell_type": "code",
      "metadata": {
        "colab": {
          "base_uri": "https://localhost:8080/",
          "height": 295
        },
        "id": "y12euwTlh9Zh",
        "outputId": "3cf6676c-556a-460f-fb9e-8eeceb22f267"
      },
      "source": [
        "plt.plot(x,y,color= \"green\", linestyle =\"dashed\")\n",
        "plt.scatter(x,y, marker = \"o\", color = \"blue\")\n",
        "plt.xlabel(\"X- Axis\")\n",
        "plt.ylabel(\"Y- Axis\")\n",
        "plt.title(\"Title\")\n",
        "plt.show()"
      ],
      "execution_count": null,
      "outputs": [
        {
          "output_type": "display_data",
          "data": {
            "image/png": "[encoded data removed]",
            "text/plain": [
              "<Figure size 432x288 with 1 Axes>"
            ]
          },
          "metadata": {
            "tags": [],
            "needs_background": "light"
          }
        }
      ]
    },
    {
      "cell_type": "code",
      "metadata": {
        "id": "VBrR-bayiY56"
      },
      "source": [
        "plt.plot?"
      ],
      "execution_count": null,
      "outputs": []
    },
    {
      "cell_type": "code",
      "metadata": {
        "id": "COiWZofEjc3U"
      },
      "source": [
        "plt.scatter?"
      ],
      "execution_count": null,
      "outputs": []
    },
    {
      "cell_type": "markdown",
      "metadata": {
        "id": "inNLcmepnYp4"
      },
      "source": [
        "### Bar Graph"
      ]
    },
    {
      "cell_type": "code",
      "metadata": {
        "id": "Ot1UggNaj7Bo"
      },
      "source": [
        "name = [\"A\",\"B\",\"C\",\"D\",\"E\"]"
      ],
      "execution_count": null,
      "outputs": []
    },
    {
      "cell_type": "code",
      "metadata": {
        "id": "xmkBjAp1nxlK"
      },
      "source": [
        "salary = np.random.randint(10000, 70000,5)"
      ],
      "execution_count": null,
      "outputs": []
    },
    {
      "cell_type": "code",
      "metadata": {
        "colab": {
          "base_uri": "https://localhost:8080/"
        },
        "id": "D7lSzUIeodxM",
        "outputId": "83262938-b9fd-40b3-f0f3-d55c29cd1749"
      },
      "source": [
        "salary"
      ],
      "execution_count": null,
      "outputs": [
        {
          "output_type": "execute_result",
          "data": {
            "text/plain": [
              "array([34584, 43373, 58298, 59558, 23584])"
            ]
          },
          "metadata": {
            "tags": []
          },
          "execution_count": 42
        }
      ]
    },
    {
      "cell_type": "code",
      "metadata": {
        "colab": {
          "base_uri": "https://localhost:8080/",
          "height": 295
        },
        "id": "A_30vKnxoezb",
        "outputId": "be90fabd-fefa-4090-f6f2-5b8a58801ec6"
      },
      "source": [
        "plt.bar(name, salary, color = \"green\")\n",
        "plt.xlabel(\"Name\")\n",
        "plt.ylabel(\"Salary\")\n",
        "plt.title(\"Name vs Salary\")\n",
        "plt.show()"
      ],
      "execution_count": null,
      "outputs": [
        {
          "output_type": "display_data",
          "data": {
            "image/png": "[encoded data removed]",
            "text/plain": [
              "<Figure size 432x288 with 1 Axes>"
            ]
          },
          "metadata": {
            "tags": [],
            "needs_background": "light"
          }
        }
      ]
    },
    {
      "cell_type": "code",
      "metadata": {
        "id": "CjFnGyhupGP1"
      },
      "source": [
        ""
      ],
      "execution_count": null,
      "outputs": []
    }
  ]
}