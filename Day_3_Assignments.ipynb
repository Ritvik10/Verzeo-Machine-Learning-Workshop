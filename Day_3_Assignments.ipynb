{
  "nbformat": 4,
  "nbformat_minor": 0,
  "metadata": {
    "colab": {
      "name": "Day 3 Assignments.ipynb",
      "provenance": [],
      "authorship_tag": "ABX9TyNHvprV0d+nzGZ+R906Ekxu",
      "include_colab_link": true
    },
    "kernelspec": {
      "name": "python3",
      "display_name": "Python 3"
    },
    "language_info": {
      "name": "python"
    }
  },
  "cells": [
    {
      "cell_type": "markdown",
      "metadata": {
        "id": "view-in-github",
        "colab_type": "text"
      },
      "source": [
        "<a href=\"https://colab.research.google.com/github/Ritvik10/Verzeo-Machine-Learning-Workshop/blob/main/Day_3_Assignments.ipynb\" target=\"_parent\"><img src=\"https://colab.research.google.com/assets/colab-badge.svg\" alt=\"Open In Colab\"/></a>"
      ]
    },
    {
      "cell_type": "markdown",
      "metadata": {
        "id": "wCYzxv1Y-MyE"
      },
      "source": [
        "Assignment 1:\n",
        "\n",
        "     1)Take the username of the user\n",
        "     2)Username should be in between 3 - 10 chars, looks good\n",
        "     3)if not, give the error to the user"
      ]
    },
    {
      "cell_type": "code",
      "metadata": {
        "colab": {
          "base_uri": "https://localhost:8080/"
        },
        "id": "gKxx4CIM-I_g",
        "outputId": "0102fc1b-ac8f-4ea2-d55c-5752a2c9b2f0"
      },
      "source": [
        "username=input(\"Enter your username:\")\n",
        "if(len(username)>=3 and len(username)<=10):\n",
        "  print(\"Looks good\")\n",
        "else:\n",
        "  print(\"Error! Username has less than 3 or more than 10 characters.\")"
      ],
      "execution_count": 5,
      "outputs": [
        {
          "output_type": "stream",
          "text": [
            "Enter your username:hi\n",
            "Error! Username has less than 3 or more than 10 characters.\n"
          ],
          "name": "stdout"
        }
      ]
    },
    {
      "cell_type": "markdown",
      "metadata": {
        "id": "xJRVODng__FK"
      },
      "source": [
        "Assignment 2:\n",
        "\n",
        "      1)Price of the house is 500000\n",
        "      2)Check the credit score of loan applicant\n",
        "      3)If they have good cs, they pay 10% of House as Down payment\n",
        "      4)If not, then they pay 20%\n",
        "      5)This conditions have to be printed along with exact amount to be paid"
      ]
    },
    {
      "cell_type": "code",
      "metadata": {
        "colab": {
          "base_uri": "https://localhost:8080/"
        },
        "id": "qsFpUfCwAPfJ",
        "outputId": "744e6edb-44a5-4469-d125-fb55ffa1078a"
      },
      "source": [
        "high_income=True\n",
        "good_credit_score =False\n",
        "price_house=500000\n",
        "if high_income and good_credit_score:\n",
        "  down_payment=(10*price_house)/100\n",
        "  print(\"You have to pay 10% of house price as down payment which is:\",down_payment)\n",
        "\n",
        "elif(high_income and not good_credit_score):\n",
        "  down_payment=(20*price_house)/100\n",
        "  print(\"You have to pay 20% of house price as down payment which is:\",down_payment)\n",
        "else:\n",
        "  print(\"Loan not sanctioned.\")"
      ],
      "execution_count": 14,
      "outputs": [
        {
          "output_type": "stream",
          "text": [
            "You have to pay 20% of house price as down payment which is: 100000.0\n"
          ],
          "name": "stdout"
        }
      ]
    },
    {
      "cell_type": "markdown",
      "metadata": {
        "id": "71qaTjKYDwAX"
      },
      "source": [
        "Assignment 3:\n",
        "\n",
        "    1)Draw a pyramid with \"*\" using for loop"
      ]
    },
    {
      "cell_type": "code",
      "metadata": {
        "colab": {
          "base_uri": "https://localhost:8080/"
        },
        "id": "uyWv_6bjEkHW",
        "outputId": "6b686b4f-7cd6-4e6e-e924-95092ecbe6c9"
      },
      "source": [
        "num=int(input(\"Enter number of rows:\"))\n",
        "for i in range(0,num):\n",
        "  for j in range(0,num-i-1):\n",
        "    print(end=\" \")\n",
        "  for j in range(0,i+1):\n",
        "    print(\"*\",end=\" \")\n",
        "  print()"
      ],
      "execution_count": 9,
      "outputs": [
        {
          "output_type": "stream",
          "text": [
            "Enter number of rows:10\n",
            "         * \n",
            "        * * \n",
            "       * * * \n",
            "      * * * * \n",
            "     * * * * * \n",
            "    * * * * * * \n",
            "   * * * * * * * \n",
            "  * * * * * * * * \n",
            " * * * * * * * * * \n",
            "* * * * * * * * * * \n"
          ],
          "name": "stdout"
        }
      ]
    }
  ]
}