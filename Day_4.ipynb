{
  "nbformat": 4,
  "nbformat_minor": 0,
  "metadata": {
    "colab": {
      "name": "Day 4.ipynb",
      "provenance": [],
      "include_colab_link": true
    },
    "kernelspec": {
      "name": "python3",
      "display_name": "Python 3"
    },
    "language_info": {
      "name": "python"
    }
  },
  "cells": [
    {
      "cell_type": "markdown",
      "metadata": {
        "id": "view-in-github",
        "colab_type": "text"
      },
      "source": [
        "<a href=\"https://colab.research.google.com/github/Ritvik10/Verzeo-Machine-Learning-Workshop/blob/main/Day_4.ipynb\" target=\"_parent\"><img src=\"https://colab.research.google.com/assets/colab-badge.svg\" alt=\"Open In Colab\"/></a>"
      ]
    },
    {
      "cell_type": "code",
      "metadata": {
        "id": "3VsGMz-9zosI"
      },
      "source": [
        "prices = [10,20,30,24,12]\n",
        "\n",
        "sum = ?"
      ],
      "execution_count": null,
      "outputs": []
    },
    {
      "cell_type": "markdown",
      "metadata": {
        "id": "5gKV7Z5JzSZP"
      },
      "source": [
        "Dictionary"
      ]
    },
    {
      "cell_type": "code",
      "metadata": {
        "id": "fozdToGQzM7b"
      },
      "source": [
        "dict1 = {\"x\": 1,\n",
        "         \"y\": 2}"
      ],
      "execution_count": null,
      "outputs": []
    },
    {
      "cell_type": "code",
      "metadata": {
        "colab": {
          "base_uri": "https://localhost:8080/"
        },
        "id": "jwfIxysy0___",
        "outputId": "99098be1-d108-4332-c070-1332b5ef9720"
      },
      "source": [
        "type(dict1)"
      ],
      "execution_count": null,
      "outputs": [
        {
          "output_type": "execute_result",
          "data": {
            "text/plain": [
              "dict"
            ]
          },
          "metadata": {
            "tags": []
          },
          "execution_count": 2
        }
      ]
    },
    {
      "cell_type": "code",
      "metadata": {
        "colab": {
          "base_uri": "https://localhost:8080/"
        },
        "id": "ttMHJyhe1Cvj",
        "outputId": "e67aa1c9-223f-4ef3-8818-e794097af0d3"
      },
      "source": [
        "dict1"
      ],
      "execution_count": null,
      "outputs": [
        {
          "output_type": "execute_result",
          "data": {
            "text/plain": [
              "{'x': 1, 'y': 2}"
            ]
          },
          "metadata": {
            "tags": []
          },
          "execution_count": 3
        }
      ]
    },
    {
      "cell_type": "code",
      "metadata": {
        "id": "nTxN2nlm1Op1"
      },
      "source": [
        "dict1 = {\"x\": [1,2,3,4],\n",
        "         \"y\": 2}"
      ],
      "execution_count": null,
      "outputs": []
    },
    {
      "cell_type": "code",
      "metadata": {
        "colab": {
          "base_uri": "https://localhost:8080/"
        },
        "id": "1aidvwlE1b7W",
        "outputId": "8641e7b5-de7f-4a18-8ca7-530da726b843"
      },
      "source": [
        "dict1"
      ],
      "execution_count": null,
      "outputs": [
        {
          "output_type": "execute_result",
          "data": {
            "text/plain": [
              "{'x': [1, 2, 3, 4], 'y': 2}"
            ]
          },
          "metadata": {
            "tags": []
          },
          "execution_count": 6
        }
      ]
    },
    {
      "cell_type": "code",
      "metadata": {
        "colab": {
          "base_uri": "https://localhost:8080/"
        },
        "id": "0muk-feb1ezn",
        "outputId": "9ffbab82-584b-4d3c-d5b8-b706e62f3f7a"
      },
      "source": [
        "dict1.keys()"
      ],
      "execution_count": null,
      "outputs": [
        {
          "output_type": "execute_result",
          "data": {
            "text/plain": [
              "dict_keys(['x', 'y'])"
            ]
          },
          "metadata": {
            "tags": []
          },
          "execution_count": 7
        }
      ]
    },
    {
      "cell_type": "code",
      "metadata": {
        "colab": {
          "base_uri": "https://localhost:8080/"
        },
        "id": "SrGOP70X1sJi",
        "outputId": "90dcdabf-9d05-42ab-ce42-6dd3c0edd8e3"
      },
      "source": [
        "dict1.values()"
      ],
      "execution_count": null,
      "outputs": [
        {
          "output_type": "execute_result",
          "data": {
            "text/plain": [
              "dict_values([[1, 2, 3, 4], 2])"
            ]
          },
          "metadata": {
            "tags": []
          },
          "execution_count": 8
        }
      ]
    },
    {
      "cell_type": "code",
      "metadata": {
        "id": "rFtRT7EG1u-N"
      },
      "source": [
        "dict1[\"z\"] = 4"
      ],
      "execution_count": null,
      "outputs": []
    },
    {
      "cell_type": "code",
      "metadata": {
        "colab": {
          "base_uri": "https://localhost:8080/"
        },
        "id": "j251INZm142M",
        "outputId": "bed68167-25f4-4cd9-9e8d-47d3828c8ea0"
      },
      "source": [
        "dict1"
      ],
      "execution_count": null,
      "outputs": [
        {
          "output_type": "execute_result",
          "data": {
            "text/plain": [
              "{'x': [1, 2, 3, 4], 'y': 2, 'z': 4}"
            ]
          },
          "metadata": {
            "tags": []
          },
          "execution_count": 10
        }
      ]
    },
    {
      "cell_type": "code",
      "metadata": {
        "colab": {
          "base_uri": "https://localhost:8080/"
        },
        "id": "lb7DBjhw159U",
        "outputId": "2ba4bcf8-02c2-437a-c5eb-258ee85f8055"
      },
      "source": [
        "dict1[\"z\"]"
      ],
      "execution_count": null,
      "outputs": [
        {
          "output_type": "execute_result",
          "data": {
            "text/plain": [
              "4"
            ]
          },
          "metadata": {
            "tags": []
          },
          "execution_count": 11
        }
      ]
    },
    {
      "cell_type": "code",
      "metadata": {
        "id": "HjIrFMy91887"
      },
      "source": [
        "dict1[\"x\"] = 7"
      ],
      "execution_count": null,
      "outputs": []
    },
    {
      "cell_type": "code",
      "metadata": {
        "colab": {
          "base_uri": "https://localhost:8080/"
        },
        "id": "c9rdPoJe2Qf2",
        "outputId": "4698ce75-0468-4f53-f614-a8868322e122"
      },
      "source": [
        "dict1\n"
      ],
      "execution_count": null,
      "outputs": [
        {
          "output_type": "execute_result",
          "data": {
            "text/plain": [
              "{'x': 7, 'y': 2, 'z': 4}"
            ]
          },
          "metadata": {
            "tags": []
          },
          "execution_count": 13
        }
      ]
    },
    {
      "cell_type": "code",
      "metadata": {
        "id": "tEIlKWNC2RnS"
      },
      "source": [
        "dict1 = {\"x\": [1,2,3,4],\n",
        "         \"x\": 2}"
      ],
      "execution_count": null,
      "outputs": []
    },
    {
      "cell_type": "code",
      "metadata": {
        "colab": {
          "base_uri": "https://localhost:8080/"
        },
        "id": "AFWYDVCd2XMs",
        "outputId": "1a22bcb2-d927-45ec-b450-e21bad7f5286"
      },
      "source": [
        "dict1"
      ],
      "execution_count": null,
      "outputs": [
        {
          "output_type": "execute_result",
          "data": {
            "text/plain": [
              "{'x': 2}"
            ]
          },
          "metadata": {
            "tags": []
          },
          "execution_count": 15
        }
      ]
    },
    {
      "cell_type": "markdown",
      "metadata": {
        "id": "eV8_d-yr29rj"
      },
      "source": [
        "To learn the methods or fn of Dictionary"
      ]
    },
    {
      "cell_type": "markdown",
      "metadata": {
        "id": "wvNeO3QD3K_V"
      },
      "source": [
        "Funtions"
      ]
    },
    {
      "cell_type": "markdown",
      "metadata": {
        "id": "8Sxx01Ac35df"
      },
      "source": [
        "1. User defined\n",
        "2. Pre defined or built in"
      ]
    },
    {
      "cell_type": "code",
      "metadata": {
        "id": "DZ0uTsDq3_eg"
      },
      "source": [
        "def greet():\n",
        "  print(\"Hi there...\")\n",
        "  print(\"Welcome Aboard\")"
      ],
      "execution_count": null,
      "outputs": []
    },
    {
      "cell_type": "code",
      "metadata": {
        "colab": {
          "base_uri": "https://localhost:8080/"
        },
        "id": "bwP0XQDB4_nB",
        "outputId": "ca3299db-6c00-49f2-c414-aca525d867ff"
      },
      "source": [
        "print(\"start\")\n",
        "greet()\n",
        "print(\"end\")"
      ],
      "execution_count": null,
      "outputs": [
        {
          "output_type": "stream",
          "text": [
            "start\n",
            "Hi there...\n",
            "Welcome Aboard\n",
            "end\n"
          ],
          "name": "stdout"
        }
      ]
    },
    {
      "cell_type": "code",
      "metadata": {
        "id": "jnaA9f3d5P97"
      },
      "source": [
        "def greet_user(name):      #Parameter\n",
        "  print(f\"Hi {name}\")\n",
        "  print(\"Welcome Aboard\")"
      ],
      "execution_count": null,
      "outputs": []
    },
    {
      "cell_type": "code",
      "metadata": {
        "colab": {
          "base_uri": "https://localhost:8080/"
        },
        "id": "qrAJ5fow6W4x",
        "outputId": "0921bf28-2e28-4e85-e287-89500b8c0519"
      },
      "source": [
        "print(\"start\")\n",
        "greet_user(\"Liqzan\")      #Argument\n",
        "print(\"end\")"
      ],
      "execution_count": null,
      "outputs": [
        {
          "output_type": "stream",
          "text": [
            "start\n",
            "Hi Liqzan\n",
            "Welcome Aboard\n",
            "end\n"
          ],
          "name": "stdout"
        }
      ]
    },
    {
      "cell_type": "code",
      "metadata": {
        "id": "jWCP6S4b6o_v"
      },
      "source": [
        "def greet_user(first, last):      #Parameter\n",
        "  print(f\"Hi {first} {last}\")\n",
        "  print(\"Welcome Aboard\")"
      ],
      "execution_count": null,
      "outputs": []
    },
    {
      "cell_type": "code",
      "metadata": {
        "colab": {
          "base_uri": "https://localhost:8080/"
        },
        "id": "46s-Sfbc7kpn",
        "outputId": "fde6186a-24d9-4a92-f136-38e54f50a168"
      },
      "source": [
        "greet_user(last=\"Manna\", first=\"Lkiq\")"
      ],
      "execution_count": null,
      "outputs": [
        {
          "output_type": "stream",
          "text": [
            "Hi Lkiq Manna\n",
            "Welcome Aboard\n"
          ],
          "name": "stdout"
        }
      ]
    },
    {
      "cell_type": "markdown",
      "metadata": {
        "id": "l5dcAK3v8dPy"
      },
      "source": [
        "1. Perform a task\n",
        "2. Returns a value"
      ]
    },
    {
      "cell_type": "code",
      "metadata": {
        "colab": {
          "base_uri": "https://localhost:8080/"
        },
        "id": "maI1Hnf47ne_",
        "outputId": "23c2dca1-1639-45fc-f2a2-a562a3124b61"
      },
      "source": [
        "import math\n",
        "math.factorial(4)"
      ],
      "execution_count": null,
      "outputs": [
        {
          "output_type": "execute_result",
          "data": {
            "text/plain": [
              "24"
            ]
          },
          "metadata": {
            "tags": []
          },
          "execution_count": 28
        }
      ]
    },
    {
      "cell_type": "code",
      "metadata": {
        "colab": {
          "base_uri": "https://localhost:8080/"
        },
        "id": "mTj4GSsr9deX",
        "outputId": "14c41cec-231d-451b-cb9c-a03388c343fc"
      },
      "source": [
        "math.sqrt(23)"
      ],
      "execution_count": null,
      "outputs": [
        {
          "output_type": "execute_result",
          "data": {
            "text/plain": [
              "4.795831523312719"
            ]
          },
          "metadata": {
            "tags": []
          },
          "execution_count": 29
        }
      ]
    },
    {
      "cell_type": "code",
      "metadata": {
        "id": "UGIVu3ki9tGT"
      },
      "source": [
        "import time"
      ],
      "execution_count": null,
      "outputs": []
    },
    {
      "cell_type": "code",
      "metadata": {
        "colab": {
          "base_uri": "https://localhost:8080/"
        },
        "id": "QGOSsfa6-KDj",
        "outputId": "a7a95dbb-06a7-42c6-faf7-286b9d505c18"
      },
      "source": [
        "for i in range(0,10):\n",
        "  print(i)\n",
        "  time.sleep(1)"
      ],
      "execution_count": null,
      "outputs": [
        {
          "output_type": "stream",
          "text": [
            "0\n",
            "1\n",
            "2\n",
            "3\n",
            "4\n",
            "5\n",
            "6\n",
            "7\n",
            "8\n",
            "9\n"
          ],
          "name": "stdout"
        }
      ]
    },
    {
      "cell_type": "code",
      "metadata": {
        "id": "TLNtpXDl-gBO"
      },
      "source": [
        ""
      ],
      "execution_count": null,
      "outputs": []
    }
  ]
}